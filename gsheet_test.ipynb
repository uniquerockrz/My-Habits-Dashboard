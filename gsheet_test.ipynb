{
 "cells": [
  {
   "cell_type": "code",
   "execution_count": 1,
   "metadata": {},
   "outputs": [],
   "source": [
    "import gspread\n",
    "import pandas as pd"
   ]
  },
  {
   "cell_type": "code",
   "execution_count": 2,
   "metadata": {},
   "outputs": [],
   "source": [
    "secrets_file = 'credentials.json'"
   ]
  },
  {
   "cell_type": "markdown",
   "metadata": {},
   "source": [
    "### Import Sheet Data To Pandas"
   ]
  },
  {
   "cell_type": "code",
   "execution_count": 3,
   "metadata": {},
   "outputs": [],
   "source": [
    "gc = gspread.service_account(filename=secrets_file)"
   ]
  },
  {
   "cell_type": "code",
   "execution_count": 27,
   "metadata": {},
   "outputs": [],
   "source": [
    "g_sheet = gc.open_by_key('1chpKg4g_ReVQ4ciV2PxL_Y3S5hf5iy93OX3V6n7KdjQ')"
   ]
  },
  {
   "cell_type": "code",
   "execution_count": 28,
   "metadata": {},
   "outputs": [],
   "source": [
    "worksheet = g_sheet.worksheet('Form responses 1')"
   ]
  },
  {
   "cell_type": "code",
   "execution_count": 29,
   "metadata": {},
   "outputs": [],
   "source": [
    "df = pd.DataFrame(worksheet.get_all_records())"
   ]
  },
  {
   "cell_type": "code",
   "execution_count": 30,
   "metadata": {},
   "outputs": [
    {
     "data": {
      "text/html": [
       "<div>\n",
       "<style scoped>\n",
       "    .dataframe tbody tr th:only-of-type {\n",
       "        vertical-align: middle;\n",
       "    }\n",
       "\n",
       "    .dataframe tbody tr th {\n",
       "        vertical-align: top;\n",
       "    }\n",
       "\n",
       "    .dataframe thead th {\n",
       "        text-align: right;\n",
       "    }\n",
       "</style>\n",
       "<table border=\"1\" class=\"dataframe\">\n",
       "  <thead>\n",
       "    <tr style=\"text-align: right;\">\n",
       "      <th></th>\n",
       "      <th>Timestamp</th>\n",
       "      <th>Date</th>\n",
       "      <th>How many pages of non fiction did you read today?</th>\n",
       "      <th>How many sections of Data Science did you cover today?</th>\n",
       "      <th>How many minutes did you meditate today?</th>\n",
       "      <th>How many programming sections did you cover today?</th>\n",
       "      <th>How many writing sections did you cover today?</th>\n",
       "      <th>How many minutes did you have focus today?</th>\n",
       "      <th>How many pages of fiction did you read today?</th>\n",
       "      <th>How many projects did you complete today?</th>\n",
       "      <th>How many programming problems did you solve today?</th>\n",
       "      <th>How many words did you write today</th>\n",
       "    </tr>\n",
       "  </thead>\n",
       "  <tbody>\n",
       "    <tr>\n",
       "      <th>0</th>\n",
       "      <td>23/08/2022 14:44:00</td>\n",
       "      <td>15/08/2022</td>\n",
       "      <td>14</td>\n",
       "      <td>0</td>\n",
       "      <td>0</td>\n",
       "      <td>0</td>\n",
       "      <td>0</td>\n",
       "      <td>0</td>\n",
       "      <td>0</td>\n",
       "      <td>0</td>\n",
       "      <td>0</td>\n",
       "      <td>0</td>\n",
       "    </tr>\n",
       "    <tr>\n",
       "      <th>1</th>\n",
       "      <td>23/08/2022 14:44:56</td>\n",
       "      <td>16/08/2022</td>\n",
       "      <td>20</td>\n",
       "      <td>0</td>\n",
       "      <td>11</td>\n",
       "      <td>0</td>\n",
       "      <td>0</td>\n",
       "      <td>420</td>\n",
       "      <td>0</td>\n",
       "      <td>0</td>\n",
       "      <td>0</td>\n",
       "      <td>0</td>\n",
       "    </tr>\n",
       "    <tr>\n",
       "      <th>2</th>\n",
       "      <td>23/08/2022 14:47:10</td>\n",
       "      <td>17/08/2022</td>\n",
       "      <td>0</td>\n",
       "      <td>0</td>\n",
       "      <td>0</td>\n",
       "      <td>0</td>\n",
       "      <td>0</td>\n",
       "      <td>330</td>\n",
       "      <td>0</td>\n",
       "      <td>0</td>\n",
       "      <td>0</td>\n",
       "      <td>0</td>\n",
       "    </tr>\n",
       "    <tr>\n",
       "      <th>3</th>\n",
       "      <td>23/08/2022 14:47:54</td>\n",
       "      <td>18/08/2022</td>\n",
       "      <td>0</td>\n",
       "      <td>0</td>\n",
       "      <td>0</td>\n",
       "      <td>0</td>\n",
       "      <td>0</td>\n",
       "      <td>0</td>\n",
       "      <td>0</td>\n",
       "      <td>0</td>\n",
       "      <td>0</td>\n",
       "      <td>0</td>\n",
       "    </tr>\n",
       "    <tr>\n",
       "      <th>4</th>\n",
       "      <td>23/08/2022 14:48:39</td>\n",
       "      <td>19/08/2022</td>\n",
       "      <td>18</td>\n",
       "      <td>0</td>\n",
       "      <td>18</td>\n",
       "      <td>0</td>\n",
       "      <td>0</td>\n",
       "      <td>0</td>\n",
       "      <td>0</td>\n",
       "      <td>0</td>\n",
       "      <td>0</td>\n",
       "      <td>0</td>\n",
       "    </tr>\n",
       "  </tbody>\n",
       "</table>\n",
       "</div>"
      ],
      "text/plain": [
       "             Timestamp        Date  \\\n",
       "0  23/08/2022 14:44:00  15/08/2022   \n",
       "1  23/08/2022 14:44:56  16/08/2022   \n",
       "2  23/08/2022 14:47:10  17/08/2022   \n",
       "3  23/08/2022 14:47:54  18/08/2022   \n",
       "4  23/08/2022 14:48:39  19/08/2022   \n",
       "\n",
       "   How many pages of non fiction did you read today?  \\\n",
       "0                                                 14   \n",
       "1                                                 20   \n",
       "2                                                  0   \n",
       "3                                                  0   \n",
       "4                                                 18   \n",
       "\n",
       "   How many sections of Data Science did you cover today?  \\\n",
       "0                                                  0        \n",
       "1                                                  0        \n",
       "2                                                  0        \n",
       "3                                                  0        \n",
       "4                                                  0        \n",
       "\n",
       "   How many minutes did you meditate today?  \\\n",
       "0                                         0   \n",
       "1                                        11   \n",
       "2                                         0   \n",
       "3                                         0   \n",
       "4                                        18   \n",
       "\n",
       "   How many programming sections did you cover today?  \\\n",
       "0                                                  0    \n",
       "1                                                  0    \n",
       "2                                                  0    \n",
       "3                                                  0    \n",
       "4                                                  0    \n",
       "\n",
       "   How many writing sections did you cover today?  \\\n",
       "0                                               0   \n",
       "1                                               0   \n",
       "2                                               0   \n",
       "3                                               0   \n",
       "4                                               0   \n",
       "\n",
       "   How many minutes did you have focus today?  \\\n",
       "0                                           0   \n",
       "1                                         420   \n",
       "2                                         330   \n",
       "3                                           0   \n",
       "4                                           0   \n",
       "\n",
       "   How many pages of fiction did you read today?  \\\n",
       "0                                              0   \n",
       "1                                              0   \n",
       "2                                              0   \n",
       "3                                              0   \n",
       "4                                              0   \n",
       "\n",
       "   How many projects did you complete today?  \\\n",
       "0                                          0   \n",
       "1                                          0   \n",
       "2                                          0   \n",
       "3                                          0   \n",
       "4                                          0   \n",
       "\n",
       "   How many programming problems did you solve today?  \\\n",
       "0                                                  0    \n",
       "1                                                  0    \n",
       "2                                                  0    \n",
       "3                                                  0    \n",
       "4                                                  0    \n",
       "\n",
       "   How many words did you write today  \n",
       "0                                   0  \n",
       "1                                   0  \n",
       "2                                   0  \n",
       "3                                   0  \n",
       "4                                   0  "
      ]
     },
     "execution_count": 30,
     "metadata": {},
     "output_type": "execute_result"
    }
   ],
   "source": [
    "df.head(5)"
   ]
  },
  {
   "cell_type": "code",
   "execution_count": 31,
   "metadata": {},
   "outputs": [
    {
     "data": {
      "text/plain": [
       "Index(['Timestamp', 'Date',\n",
       "       'How many pages of non fiction did you read today?',\n",
       "       'How many sections of Data Science did you cover today?',\n",
       "       'How many minutes did you meditate today?',\n",
       "       'How many programming sections did you cover today?',\n",
       "       'How many writing sections did you cover today?',\n",
       "       'How many minutes did you have focus today?',\n",
       "       'How many pages of fiction did you read today?',\n",
       "       'How many projects did you complete today?',\n",
       "       'How many programming problems did you solve today?',\n",
       "       'How many words did you write today'],\n",
       "      dtype='object')"
      ]
     },
     "execution_count": 31,
     "metadata": {},
     "output_type": "execute_result"
    }
   ],
   "source": [
    "df.columns"
   ]
  },
  {
   "cell_type": "code",
   "execution_count": 35,
   "metadata": {},
   "outputs": [],
   "source": [
    "df = df.rename(columns={ \n",
    "    df.columns[2]: 'pages_nonfiction',\n",
    "    df.columns[3]: 'sections_datascience',\n",
    "    df.columns[4]: 'minutes_meditation',\n",
    "    df.columns[5]: 'sections_programming',\n",
    "    df.columns[6]: 'sections_writing',\n",
    "    df.columns[7]: 'minutes_focus',\n",
    "    df.columns[8]: 'pages_fiction',\n",
    "    df.columns[9]: 'n_projects',\n",
    "    df.columns[10]: 'n_problems',\n",
    "    df.columns[11]: 'n_words',\n",
    "})"
   ]
  },
  {
   "cell_type": "code",
   "execution_count": null,
   "metadata": {},
   "outputs": [],
   "source": []
  }
 ],
 "metadata": {
  "kernelspec": {
   "display_name": "Python 3.9.13 ('.venv': venv)",
   "language": "python",
   "name": "python3"
  },
  "language_info": {
   "codemirror_mode": {
    "name": "ipython",
    "version": 3
   },
   "file_extension": ".py",
   "mimetype": "text/x-python",
   "name": "python",
   "nbconvert_exporter": "python",
   "pygments_lexer": "ipython3",
   "version": "3.9.13"
  },
  "orig_nbformat": 4,
  "vscode": {
   "interpreter": {
    "hash": "7fffdd192db8e61dba8e52c96fe3b649a176b2a60b67331d0f0ec32b0e459b1c"
   }
  }
 },
 "nbformat": 4,
 "nbformat_minor": 2
}
